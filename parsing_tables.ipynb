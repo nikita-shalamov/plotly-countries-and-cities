{
 "cells": [
  {
   "cell_type": "code",
   "execution_count": 1,
   "metadata": {
    "executionInfo": {
     "elapsed": 671,
     "status": "ok",
     "timestamp": 1668355474269,
     "user": {
      "displayName": "Никита",
      "userId": "06216477640278450368"
     },
     "user_tz": -300
    },
    "id": "iPNTAgKwWQER"
   },
   "outputs": [],
   "source": [
    "from bs4 import BeautifulSoup as bs\n",
    "import requests\n",
    "import pandas as pd"
   ]
  },
  {
   "cell_type": "markdown",
   "metadata": {},
   "source": [
    "## Индекс демократии"
   ]
  },
  {
   "cell_type": "code",
   "execution_count": null,
   "metadata": {
    "id": "Hv5FM4Z2qySb"
   },
   "outputs": [],
   "source": [
    "url = 'https://en.wikipedia.org/wiki/Democracy_Index'\n",
    "\n",
    "source = requests.get(url)\n",
    "main_text = source.text\n",
    "soup = bs(main_text, 'html.parser')"
   ]
  },
  {
   "cell_type": "code",
   "execution_count": null,
   "metadata": {
    "id": "TOM5mBNeugTT"
   },
   "outputs": [],
   "source": [
    "tables = [table.tbody for table in soup.find_all('table')]"
   ]
  },
  {
   "cell_type": "code",
   "execution_count": null,
   "metadata": {
    "colab": {
     "base_uri": "https://localhost:8080/"
    },
    "executionInfo": {
     "elapsed": 9,
     "status": "ok",
     "timestamp": 1668262805770,
     "user": {
      "displayName": "Никита",
      "userId": "06216477640278450368"
     },
     "user_tz": -300
    },
    "id": "RJNstmVJ0nrI",
    "outputId": "72d7e524-8276-4476-dc12-121f29e859bf"
   },
   "outputs": [
    {
     "name": "stdout",
     "output_type": "stream",
     "text": [
      "8\n"
     ]
    }
   ],
   "source": [
    "print(len(tables))\n",
    "table = tables[6]"
   ]
  },
  {
   "cell_type": "code",
   "execution_count": null,
   "metadata": {
    "id": "3zO8BVoJ_F2E"
   },
   "outputs": [],
   "source": [
    "dict_result = {'rank': [], \n",
    "               'country': [], \n",
    "               'regime_type': [], \n",
    "               'overall_score': [], \n",
    "               'electorat_and_pluralism': [], \n",
    "               'government': [], \n",
    "               'political_participation': [],\n",
    "               'political_culture': [],\n",
    "               'civil_liberties': []\n",
    "               }\n",
    "\n",
    "for i in table.find_all('tr')[3:]:\n",
    "    try:\n",
    "        dict_result['rank'].append(i.find_all('td')[0].text.replace(\"\\n\", \"\"))\n",
    "        dict_result['country'].append(i.find_all('td')[2].text.replace(\"\\n\", \"\").replace(\"\\xa0\", \"\"))\n",
    "        dict_result['regime_type'].append(i.find_all('td')[3].text.replace(\"\\n\", \"\"))\n",
    "        dict_result['overall_score'].append(i.find_all('td')[4].text.replace(\"\\n\", \"\"))\n",
    "        dict_result['electorat_and_pluralism'].append(i.find_all('td')[6].text.replace(\"\\n\", \"\"))\n",
    "        dict_result['government'].append(i.find_all('td')[7].text.replace(\"\\n\", \"\"))\n",
    "        dict_result['poli­tical_partici­pation'].append(i.find_all('td')[8].text.replace(\"\\n\", \"\"))\n",
    "        dict_result['poli­tical_cul­ture'].append(i.find_all('td')[9].text.replace(\"\\n\", \"\"))\n",
    "        dict_result['civil_liber­ties'].append(i.find_all('td')[10].text.replace(\"\\n\", \"\"))\n",
    "    except:\n",
    "        continue"
   ]
  },
  {
   "cell_type": "code",
   "execution_count": null,
   "metadata": {
    "colab": {
     "base_uri": "https://localhost:8080/"
    },
    "executionInfo": {
     "elapsed": 12,
     "status": "ok",
     "timestamp": 1668262806124,
     "user": {
      "displayName": "Никита",
      "userId": "06216477640278450368"
     },
     "user_tz": -300
    },
    "id": "oIVd5UeYDPLs",
    "outputId": "82b03c7e-ebb3-4974-b3b9-4082f2ab186d"
   },
   "outputs": [
    {
     "name": "stdout",
     "output_type": "stream",
     "text": [
      "1 is <class 'str'> type\n",
      "Norway is <class 'str'> type\n",
      "Full democracy is <class 'str'> type\n",
      "9.75 is <class 'str'> type\n",
      "10.00 is <class 'str'> type\n",
      "9.64 is <class 'str'> type\n",
      "10.00 is <class 'str'> type\n",
      "10.00 is <class 'str'> type\n",
      "9.12 is <class 'str'> type\n"
     ]
    }
   ],
   "source": [
    "for key, value in dict_result.items():\n",
    "    print(f'{value[0]} is {type(value[0])} type')"
   ]
  },
  {
   "cell_type": "code",
   "execution_count": null,
   "metadata": {
    "id": "DIaJIYAYGZn5"
   },
   "outputs": [],
   "source": [
    "democracy_index = pd.DataFrame(dict_result)\n",
    "democracy_index.to_csv('parsing_tables/democracy_index.csv', index=False)"
   ]
  },
  {
   "cell_type": "code",
   "execution_count": null,
   "metadata": {
    "id": "mDBzDh_qIY99"
   },
   "outputs": [],
   "source": [
    "colors = ['#0c3091', '#2f5cd5', '#6bd2df', '#c3eded', '#f9f8bb', '#fad45d', '#da820f', '#66000f']\n",
    "colors_democracy_index_table = pd.DataFrame({'colors': colors})\n",
    "colors_democracy_index_table.to_csv('parsing_tables/colors_democracy_index_table.csv', index=False)"
   ]
  },
  {
   "cell_type": "markdown",
   "metadata": {},
   "source": [
    "## Индекс человеческого развития"
   ]
  },
  {
   "cell_type": "code",
   "execution_count": 3,
   "metadata": {
    "executionInfo": {
     "elapsed": 1236,
     "status": "ok",
     "timestamp": 1668355479326,
     "user": {
      "displayName": "Никита",
      "userId": "06216477640278450368"
     },
     "user_tz": -300
    },
    "id": "QXPWyVKGE-Xq"
   },
   "outputs": [],
   "source": [
    "url1 = 'https://en.wikipedia.org/wiki/List_of_countries_by_Human_Development_Index'\n",
    "\n",
    "source1 = requests.get(url1)\n",
    "main_text1 = source1.text\n",
    "soup = bs(main_text1, 'html.parser')"
   ]
  },
  {
   "cell_type": "code",
   "execution_count": 4,
   "metadata": {
    "executionInfo": {
     "elapsed": 332,
     "status": "ok",
     "timestamp": 1668355481296,
     "user": {
      "displayName": "Никита",
      "userId": "06216477640278450368"
     },
     "user_tz": -300
    },
    "id": "ozHmz3T-HdKo"
   },
   "outputs": [],
   "source": [
    "tables = soup.find_all('table')\n",
    "table = tables[1].tbody"
   ]
  },
  {
   "cell_type": "code",
   "execution_count": 64,
   "metadata": {
    "executionInfo": {
     "elapsed": 13,
     "status": "ok",
     "timestamp": 1668357885678,
     "user": {
      "displayName": "Никита",
      "userId": "06216477640278450368"
     },
     "user_tz": -300
    },
    "id": "yBIvN8waIH4X"
   },
   "outputs": [],
   "source": [
    "hdi_index_dict = {'rank': [], 'country': [], 'hdi': [], 'average_annual_growth': []}\n",
    "\n",
    "for row in table.find_all('tr')[2:]:\n",
    "    try:\n",
    "        if int(row.find_all('td')[0].text.replace(\"\\n\", '')):\n",
    "            hdi_index_dict['rank'].append(row.find_all('td')[0].text.replace(\"\\n\", ''))\n",
    "    except:\n",
    "        hdi_index_dict['rank'].append(int(hdi_index_dict['rank'][-1])+1) \n",
    "    try:\n",
    "        hdi_index_dict['country'].append(row.find('th').text.replace(\"\\xa0\", '').replace(\"\\n\", ''))\n",
    "    except:\n",
    "        continue\n",
    "    try:\n",
    "        hdi_index_dict['hdi'].append(row.find_all('td')[2].text)\n",
    "    except:\n",
    "        hdi_index_dict['hdi'].append(hdi_index_dict['hdi'][-1])\n",
    "    if '%' in row.find_all('span')[2].text.replace(' ', ''):\n",
    "        hdi_index_dict['average_annual_growth'].append(row.find_all('span')[2].text.replace(' ', ''))\n",
    "    else:\n",
    "        hdi_index_dict['average_annual_growth'].append(row.find_all('td')[3].text.replace(\" \", '').replace(\"\\n\", ''))"
   ]
  },
  {
   "cell_type": "code",
   "execution_count": 66,
   "metadata": {
    "executionInfo": {
     "elapsed": 21,
     "status": "ok",
     "timestamp": 1668357952504,
     "user": {
      "displayName": "Никита",
      "userId": "06216477640278450368"
     },
     "user_tz": -300
    },
    "id": "u61wyNd74Tz_"
   },
   "outputs": [],
   "source": [
    "df = pd.DataFrame(hdi_index_dict)"
   ]
  },
  {
   "cell_type": "code",
   "execution_count": 69,
   "metadata": {
    "colab": {
     "base_uri": "https://localhost:8080/"
    },
    "executionInfo": {
     "elapsed": 24,
     "status": "ok",
     "timestamp": 1668358048927,
     "user": {
      "displayName": "Никита",
      "userId": "06216477640278450368"
     },
     "user_tz": -300
    },
    "id": "mXYiRJqj4iFn",
    "outputId": "c955a17d-7380-48af-e438-a11792785582"
   },
   "outputs": [
    {
     "name": "stdout",
     "output_type": "stream",
     "text": [
      "<class 'pandas.core.frame.DataFrame'>\n",
      "RangeIndex: 191 entries, 0 to 190\n",
      "Data columns (total 4 columns):\n",
      " #   Column                 Non-Null Count  Dtype \n",
      "---  ------                 --------------  ----- \n",
      " 0   rank                   191 non-null    object\n",
      " 1   country                191 non-null    object\n",
      " 2   hdi                    191 non-null    object\n",
      " 3   average_annual_growth  191 non-null    object\n",
      "dtypes: object(4)\n",
      "memory usage: 6.1+ KB\n"
     ]
    }
   ],
   "source": [
    "df.info()"
   ]
  },
  {
   "cell_type": "code",
   "execution_count": 72,
   "metadata": {
    "colab": {
     "base_uri": "https://localhost:8080/"
    },
    "executionInfo": {
     "elapsed": 21,
     "status": "ok",
     "timestamp": 1668358083642,
     "user": {
      "displayName": "Никита",
      "userId": "06216477640278450368"
     },
     "user_tz": -300
    },
    "id": "iWd_rNFf45su",
    "outputId": "90c3e8cd-3257-4837-b87d-3d6dada85845"
   },
   "outputs": [
    {
     "data": {
      "text/plain": [
       "rank                     191\n",
       "country                  191\n",
       "hdi                      162\n",
       "average_annual_growth     96\n",
       "dtype: int64"
      ]
     },
     "execution_count": 72,
     "metadata": {},
     "output_type": "execute_result"
    }
   ],
   "source": [
    "df.nunique()"
   ]
  },
  {
   "cell_type": "code",
   "execution_count": 73,
   "metadata": {
    "executionInfo": {
     "elapsed": 308,
     "status": "ok",
     "timestamp": 1668358330097,
     "user": {
      "displayName": "Никита",
      "userId": "06216477640278450368"
     },
     "user_tz": -300
    },
    "id": "wioQ7CVg5Ehe"
   },
   "outputs": [],
   "source": [
    "df.to_csv('parsing_tables/human_dev_index.csv', index=False)"
   ]
  },
  {
   "cell_type": "markdown",
   "metadata": {},
   "source": [
    "## Рейтинг качества жизни в городах"
   ]
  },
  {
   "cell_type": "code",
   "execution_count": 2,
   "metadata": {},
   "outputs": [],
   "source": [
    "url = 'https://mobilityexchange.mercer.com/Insights/quality-of-living-rankings'\n",
    "\n",
    "source = requests.get(url)\n",
    "main_text = source.text\n",
    "soup = bs(main_text, 'lxml')"
   ]
  },
  {
   "cell_type": "code",
   "execution_count": 11,
   "metadata": {},
   "outputs": [
    {
     "name": "stdout",
     "output_type": "stream",
     "text": [
      "{'City': 'Vienna', 'Country': 'Austria'}\n",
      "{'City': 'Zürich', 'Country': 'Switzerland'}\n"
     ]
    }
   ],
   "source": [
    "all_cities = soup.tbody.contents[2:] + soup.find('div', id='fulltable').tbody.contents[2:]\n",
    "dict_countries = {}\n",
    "count_rank = 0\n",
    "for i in all_cities:\n",
    "    if i != '\\n':\n",
    "        ex_dict = {}\n",
    "        ex_list = []\n",
    "        for j in i.children:\n",
    "            if j != '\\n':\n",
    "                ex_list.append(j.text)\n",
    "        if ex_list[0] not in dict_countries:\n",
    "            count_rank = 0\n",
    "            ex_dict['City'] = ex_list[1]\n",
    "            ex_dict['Country'] = ex_list[2]\n",
    "            dict_countries[ex_list[0]] = ex_dict\n",
    "        else:\n",
    "            count_rank += 1\n",
    "            ex_dict['City'] = ex_list[1]\n",
    "            ex_dict['Country'] = ex_list[2]\n",
    "            dict_countries[str(int(ex_list[0]) + count_rank)] = ex_dict\n",
    "print(dict_countries['1'])\n",
    "print(dict_countries['2'])"
   ]
  },
  {
   "cell_type": "code",
   "execution_count": 12,
   "metadata": {},
   "outputs": [],
   "source": [
    "ranks = []\n",
    "cities = []\n",
    "countries = []\n",
    "for key, value in dict_countries.items():\n",
    "    ranks.append(int(key))\n",
    "    cities.append(value['City'])\n",
    "    countries.append(value['Country'])"
   ]
  },
  {
   "cell_type": "code",
   "execution_count": 13,
   "metadata": {},
   "outputs": [],
   "source": [
    "quality_of_living_city_ranking = pd.DataFrame(data={'rank': ranks, 'city': cities, 'country': countries})"
   ]
  },
  {
   "cell_type": "code",
   "execution_count": null,
   "metadata": {},
   "outputs": [],
   "source": [
    "quality_of_living_city_ranking.to_csv('parsing_tables/quality_of_living_city_index.csv', index=False)"
   ]
  },
  {
   "cell_type": "code",
   "execution_count": null,
   "metadata": {},
   "outputs": [],
   "source": []
  }
 ],
 "metadata": {
  "colab": {
   "authorship_tag": "ABX9TyMqGBzXGLIgUUUUjrr68BRQ",
   "mount_file_id": "1je9eDucCHo3WVJLuOuOPsW0R72He-wlx",
   "provenance": []
  },
  "kernelspec": {
   "display_name": "Python 3 (ipykernel)",
   "language": "python",
   "name": "python3"
  },
  "language_info": {
   "codemirror_mode": {
    "name": "ipython",
    "version": 3
   },
   "file_extension": ".py",
   "mimetype": "text/x-python",
   "name": "python",
   "nbconvert_exporter": "python",
   "pygments_lexer": "ipython3",
   "version": "3.9.13"
  }
 },
 "nbformat": 4,
 "nbformat_minor": 1
}
