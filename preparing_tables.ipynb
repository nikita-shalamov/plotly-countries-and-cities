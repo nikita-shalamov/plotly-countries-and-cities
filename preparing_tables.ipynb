{
 "cells": [
  {
   "cell_type": "code",
   "execution_count": 10,
   "metadata": {
    "id": "kN-VYm-0hC1S"
   },
   "outputs": [],
   "source": [
    "import pandas as pd\n",
    "import numpy as np\n",
    "import logging\n",
    "from tqdm.auto import tqdm\n",
    "\n",
    "import country_converter as coco\n",
    "from geopy.geocoders import Nominatim\n",
    "\n",
    "import warnings\n",
    "warnings.filterwarnings(\"ignore\")"
   ]
  },
  {
   "cell_type": "code",
   "execution_count": 3,
   "metadata": {
    "id": "Pp2Q3wicuVkN"
   },
   "outputs": [],
   "source": [
    "#загрузим все таблицы\n",
    "#рейтинг городов по безопасности\n",
    "security_cities_rating = pd.read_excel('parsing_tables/safety_cities_index.xlsx', header=None)\n",
    "#рейтинг стран по уровню человеческого развития\n",
    "human_dev_rating = pd.read_csv('parsing_tables/human_dev_index.csv')\n",
    "#рейтинг городов по уровню качества жизни\n",
    "quality_of_life_rating = pd.read_csv('parsing_tables/quality_of_living_city_index.csv')\n",
    "#рейтинг стран по уровню демократии\n",
    "democracy_rating = pd.read_csv('parsing_tables/democracy_index.csv')\n"
   ]
  },
  {
   "cell_type": "code",
   "execution_count": 4,
   "metadata": {
    "colab": {
     "base_uri": "https://localhost:8080/"
    },
    "executionInfo": {
     "elapsed": 15,
     "status": "ok",
     "timestamp": 1668611902391,
     "user": {
      "displayName": "Никита",
      "userId": "06216477640278450368"
     },
     "user_tz": -300
    },
    "id": "ku4dSPWrk8wo",
    "outputId": "05c47f0f-b606-4a55-c218-49f8f6690a53"
   },
   "outputs": [
    {
     "name": "stdout",
     "output_type": "stream",
     "text": [
      "   0           1     2   3           4     5   6          7     8   9   \\\n",
      "0   1  Copenhagen  82.4   1      Sydney  83.2   1      Tokyo  87.7   1   \n",
      "1   2     Toronto  82.2   2   Singapore  82.8   2  Singapore  84.1   2   \n",
      "2   3   Singapore  80.7   3  Copenhagen  82.2   3  Hong Kong  84.0   3   \n",
      "\n",
      "           10    11  12          13    14  15             16    17  \n",
      "0   Hong Kong  93.4   1  Copenhagen  86.4   1     Wellington  91.7  \n",
      "1   Singapore  92.1   2   Amsterdam  80.5   2        Toronto  90.3  \n",
      "2  Copenhagen  89.0   3   Frankfurt  80.3   3  Washington DC  87.6  \n",
      "-----------------------\n",
      "   rank      country    hdi average_annual_growth\n",
      "0     1  Switzerland  0.962                 0.19%\n",
      "1     2       Norway  0.961                 0.19%\n",
      "2     3      Iceland  0.959                 0.56%\n",
      "-----------------------\n",
      "   rank       city      country\n",
      "0     1     Vienna      Austria\n",
      "1     2     Zürich  Switzerland\n",
      "2     3  Vancouver       Canada\n",
      "-----------------------\n",
      "   rank      country     regime_type  overall_score  electorat_and_pluralism  \\\n",
      "0     1       Norway  Full democracy           9.75                     10.0   \n",
      "1     2  New Zealand  Full democracy           9.37                     10.0   \n",
      "2     3      Finland  Full democracy           9.27                     10.0   \n",
      "\n",
      "   government  poli­tical_partici­pation  poli­tical_cul­ture  \\\n",
      "0        9.64                      10.00                10.00   \n",
      "1        8.93                       9.44                 8.75   \n",
      "2        9.29                       8.89                 8.75   \n",
      "\n",
      "   civil_liber­ties  \n",
      "0              9.12  \n",
      "1              9.71  \n",
      "2              9.41  \n"
     ]
    }
   ],
   "source": [
    "#посмотрим на таблицы, которые у нас есть\n",
    "print(security_cities_rating.head(3))\n",
    "print('-----------------------')\n",
    "print(human_dev_rating.head(3))\n",
    "print('-----------------------')\n",
    "print(quality_of_life_rating.head(3))\n",
    "print('-----------------------')\n",
    "print(democracy_rating.head(3))\n"
   ]
  },
  {
   "cell_type": "markdown",
   "metadata": {
    "id": "miVGoPqQHZtz"
   },
   "source": [
    "### Работа с таблицей quality_of_life_rating\n",
    "\n",
    "1. Перевод названий стран на английский\n",
    "2. Меняем колонки местами\n",
    "\n"
   ]
  },
  {
   "cell_type": "code",
   "execution_count": null,
   "metadata": {
    "id": "quuasn1NDdjK"
   },
   "outputs": [],
   "source": [
    "#переведем некоторые страны на английский\n",
    "l = list(quality_of_life_rating.city)\n",
    "l[l.index('Zürich')] = 'Zurich'\n",
    "l[l.index('Düsseldorf')] = 'Dusseldorf'\n",
    "l[l.index('Montréal')] = 'Montreal'\n",
    "l[l.index('Pointe-à-Pitre')] = 'Pointe-a-Pitre'\n",
    "l[l.index('San José')] = 'San Jose'\n",
    "l[l.index('Asunción')] = 'Asuncion'\n",
    "l[l.index('São Paulo')] = 'Sao Paulo'\n",
    "l[l.index('Bogotá')] = 'Bogota'\n",
    "quality_of_life_rating['city_eng'] = np.array(l)"
   ]
  },
  {
   "cell_type": "code",
   "execution_count": null,
   "metadata": {
    "id": "wmNcFW32GWPo"
   },
   "outputs": [],
   "source": [
    "#переставим местами некоторые колонки\n",
    "quality_of_life_rating = quality_of_life_rating.reindex(columns=['rank', 'city', 'city_eng', 'country'])"
   ]
  },
  {
   "cell_type": "code",
   "execution_count": null,
   "metadata": {
    "colab": {
     "base_uri": "https://localhost:8080/",
     "height": 142
    },
    "executionInfo": {
     "elapsed": 16,
     "status": "ok",
     "timestamp": 1668611903005,
     "user": {
      "displayName": "Никита",
      "userId": "06216477640278450368"
     },
     "user_tz": -300
    },
    "id": "dRQvIvpaLIKv",
    "outputId": "1c99b381-2c86-4239-a297-b8a481f99a2b"
   },
   "outputs": [
    {
     "data": {
      "text/html": [
       "\n",
       "  <div id=\"df-cd274fcf-0f31-43a5-888f-217b0f99c12f\">\n",
       "    <div class=\"colab-df-container\">\n",
       "      <div>\n",
       "<style scoped>\n",
       "    .dataframe tbody tr th:only-of-type {\n",
       "        vertical-align: middle;\n",
       "    }\n",
       "\n",
       "    .dataframe tbody tr th {\n",
       "        vertical-align: top;\n",
       "    }\n",
       "\n",
       "    .dataframe thead th {\n",
       "        text-align: right;\n",
       "    }\n",
       "</style>\n",
       "<table border=\"1\" class=\"dataframe\">\n",
       "  <thead>\n",
       "    <tr style=\"text-align: right;\">\n",
       "      <th></th>\n",
       "      <th>rank</th>\n",
       "      <th>city</th>\n",
       "      <th>city_eng</th>\n",
       "      <th>country</th>\n",
       "    </tr>\n",
       "  </thead>\n",
       "  <tbody>\n",
       "    <tr>\n",
       "      <th>0</th>\n",
       "      <td>1</td>\n",
       "      <td>Vienna</td>\n",
       "      <td>Vienna</td>\n",
       "      <td>Austria</td>\n",
       "    </tr>\n",
       "    <tr>\n",
       "      <th>1</th>\n",
       "      <td>2</td>\n",
       "      <td>Zürich</td>\n",
       "      <td>Zurich</td>\n",
       "      <td>Switzerland</td>\n",
       "    </tr>\n",
       "    <tr>\n",
       "      <th>2</th>\n",
       "      <td>3</td>\n",
       "      <td>Vancouver</td>\n",
       "      <td>Vancouver</td>\n",
       "      <td>Canada</td>\n",
       "    </tr>\n",
       "  </tbody>\n",
       "</table>\n",
       "</div>\n",
       "      <button class=\"colab-df-convert\" onclick=\"convertToInteractive('df-cd274fcf-0f31-43a5-888f-217b0f99c12f')\"\n",
       "              title=\"Convert this dataframe to an interactive table.\"\n",
       "              style=\"display:none;\">\n",
       "        \n",
       "  <svg xmlns=\"http://www.w3.org/2000/svg\" height=\"24px\"viewBox=\"0 0 24 24\"\n",
       "       width=\"24px\">\n",
       "    <path d=\"M0 0h24v24H0V0z\" fill=\"none\"/>\n",
       "    <path d=\"M18.56 5.44l.94 2.06.94-2.06 2.06-.94-2.06-.94-.94-2.06-.94 2.06-2.06.94zm-11 1L8.5 8.5l.94-2.06 2.06-.94-2.06-.94L8.5 2.5l-.94 2.06-2.06.94zm10 10l.94 2.06.94-2.06 2.06-.94-2.06-.94-.94-2.06-.94 2.06-2.06.94z\"/><path d=\"M17.41 7.96l-1.37-1.37c-.4-.4-.92-.59-1.43-.59-.52 0-1.04.2-1.43.59L10.3 9.45l-7.72 7.72c-.78.78-.78 2.05 0 2.83L4 21.41c.39.39.9.59 1.41.59.51 0 1.02-.2 1.41-.59l7.78-7.78 2.81-2.81c.8-.78.8-2.07 0-2.86zM5.41 20L4 18.59l7.72-7.72 1.47 1.35L5.41 20z\"/>\n",
       "  </svg>\n",
       "      </button>\n",
       "      \n",
       "  <style>\n",
       "    .colab-df-container {\n",
       "      display:flex;\n",
       "      flex-wrap:wrap;\n",
       "      gap: 12px;\n",
       "    }\n",
       "\n",
       "    .colab-df-convert {\n",
       "      background-color: #E8F0FE;\n",
       "      border: none;\n",
       "      border-radius: 50%;\n",
       "      cursor: pointer;\n",
       "      display: none;\n",
       "      fill: #1967D2;\n",
       "      height: 32px;\n",
       "      padding: 0 0 0 0;\n",
       "      width: 32px;\n",
       "    }\n",
       "\n",
       "    .colab-df-convert:hover {\n",
       "      background-color: #E2EBFA;\n",
       "      box-shadow: 0px 1px 2px rgba(60, 64, 67, 0.3), 0px 1px 3px 1px rgba(60, 64, 67, 0.15);\n",
       "      fill: #174EA6;\n",
       "    }\n",
       "\n",
       "    [theme=dark] .colab-df-convert {\n",
       "      background-color: #3B4455;\n",
       "      fill: #D2E3FC;\n",
       "    }\n",
       "\n",
       "    [theme=dark] .colab-df-convert:hover {\n",
       "      background-color: #434B5C;\n",
       "      box-shadow: 0px 1px 3px 1px rgba(0, 0, 0, 0.15);\n",
       "      filter: drop-shadow(0px 1px 2px rgba(0, 0, 0, 0.3));\n",
       "      fill: #FFFFFF;\n",
       "    }\n",
       "  </style>\n",
       "\n",
       "      <script>\n",
       "        const buttonEl =\n",
       "          document.querySelector('#df-cd274fcf-0f31-43a5-888f-217b0f99c12f button.colab-df-convert');\n",
       "        buttonEl.style.display =\n",
       "          google.colab.kernel.accessAllowed ? 'block' : 'none';\n",
       "\n",
       "        async function convertToInteractive(key) {\n",
       "          const element = document.querySelector('#df-cd274fcf-0f31-43a5-888f-217b0f99c12f');\n",
       "          const dataTable =\n",
       "            await google.colab.kernel.invokeFunction('convertToInteractive',\n",
       "                                                     [key], {});\n",
       "          if (!dataTable) return;\n",
       "\n",
       "          const docLinkHtml = 'Like what you see? Visit the ' +\n",
       "            '<a target=\"_blank\" href=https://colab.research.google.com/notebooks/data_table.ipynb>data table notebook</a>'\n",
       "            + ' to learn more about interactive tables.';\n",
       "          element.innerHTML = '';\n",
       "          dataTable['output_type'] = 'display_data';\n",
       "          await google.colab.output.renderOutput(dataTable, element);\n",
       "          const docLink = document.createElement('div');\n",
       "          docLink.innerHTML = docLinkHtml;\n",
       "          element.appendChild(docLink);\n",
       "        }\n",
       "      </script>\n",
       "    </div>\n",
       "  </div>\n",
       "  "
      ],
      "text/plain": [
       "   rank       city   city_eng      country\n",
       "0     1     Vienna     Vienna      Austria\n",
       "1     2     Zürich     Zurich  Switzerland\n",
       "2     3  Vancouver  Vancouver       Canada"
      ]
     },
     "execution_count": 180,
     "metadata": {},
     "output_type": "execute_result"
    }
   ],
   "source": [
    "#проверяем готовую таблицу\n",
    "quality_of_life_rating.head(3)"
   ]
  },
  {
   "cell_type": "markdown",
   "metadata": {
    "id": "7ppv7t7gHuF_"
   },
   "source": [
    "### Работа с таблицей security_cities_rating\n"
   ]
  },
  {
   "cell_type": "markdown",
   "metadata": {
    "id": "HOeX48qbLNlG"
   },
   "source": [
    "1. Убираем лишние колонки\n",
    "2. Делаем индексы по возрастанию без задвоений\n",
    "3. Новые названия для колонок\n",
    "4. Находим страны где располагаются города"
   ]
  },
  {
   "cell_type": "code",
   "execution_count": 5,
   "metadata": {
    "colab": {
     "base_uri": "https://localhost:8080/",
     "height": 142
    },
    "executionInfo": {
     "elapsed": 15,
     "status": "ok",
     "timestamp": 1668611903005,
     "user": {
      "displayName": "Никита",
      "userId": "06216477640278450368"
     },
     "user_tz": -300
    },
    "id": "zP8LT9R-TRUk",
    "outputId": "9e8400bf-b91a-410e-b7af-c73d0903204a"
   },
   "outputs": [
    {
     "data": {
      "text/html": [
       "<div>\n",
       "<style scoped>\n",
       "    .dataframe tbody tr th:only-of-type {\n",
       "        vertical-align: middle;\n",
       "    }\n",
       "\n",
       "    .dataframe tbody tr th {\n",
       "        vertical-align: top;\n",
       "    }\n",
       "\n",
       "    .dataframe thead th {\n",
       "        text-align: right;\n",
       "    }\n",
       "</style>\n",
       "<table border=\"1\" class=\"dataframe\">\n",
       "  <thead>\n",
       "    <tr style=\"text-align: right;\">\n",
       "      <th></th>\n",
       "      <th>0</th>\n",
       "      <th>1</th>\n",
       "      <th>2</th>\n",
       "      <th>3</th>\n",
       "      <th>4</th>\n",
       "      <th>5</th>\n",
       "      <th>6</th>\n",
       "      <th>7</th>\n",
       "      <th>8</th>\n",
       "      <th>9</th>\n",
       "      <th>10</th>\n",
       "      <th>11</th>\n",
       "      <th>12</th>\n",
       "      <th>13</th>\n",
       "      <th>14</th>\n",
       "      <th>15</th>\n",
       "      <th>16</th>\n",
       "      <th>17</th>\n",
       "    </tr>\n",
       "  </thead>\n",
       "  <tbody>\n",
       "    <tr>\n",
       "      <th>0</th>\n",
       "      <td>1</td>\n",
       "      <td>Copenhagen</td>\n",
       "      <td>82.4</td>\n",
       "      <td>1</td>\n",
       "      <td>Sydney</td>\n",
       "      <td>83.2</td>\n",
       "      <td>1</td>\n",
       "      <td>Tokyo</td>\n",
       "      <td>87.7</td>\n",
       "      <td>1</td>\n",
       "      <td>Hong Kong</td>\n",
       "      <td>93.4</td>\n",
       "      <td>1</td>\n",
       "      <td>Copenhagen</td>\n",
       "      <td>86.4</td>\n",
       "      <td>1</td>\n",
       "      <td>Wellington</td>\n",
       "      <td>91.7</td>\n",
       "    </tr>\n",
       "    <tr>\n",
       "      <th>1</th>\n",
       "      <td>2</td>\n",
       "      <td>Toronto</td>\n",
       "      <td>82.2</td>\n",
       "      <td>2</td>\n",
       "      <td>Singapore</td>\n",
       "      <td>82.8</td>\n",
       "      <td>2</td>\n",
       "      <td>Singapore</td>\n",
       "      <td>84.1</td>\n",
       "      <td>2</td>\n",
       "      <td>Singapore</td>\n",
       "      <td>92.1</td>\n",
       "      <td>2</td>\n",
       "      <td>Amsterdam</td>\n",
       "      <td>80.5</td>\n",
       "      <td>2</td>\n",
       "      <td>Toronto</td>\n",
       "      <td>90.3</td>\n",
       "    </tr>\n",
       "    <tr>\n",
       "      <th>2</th>\n",
       "      <td>3</td>\n",
       "      <td>Singapore</td>\n",
       "      <td>80.7</td>\n",
       "      <td>3</td>\n",
       "      <td>Copenhagen</td>\n",
       "      <td>82.2</td>\n",
       "      <td>3</td>\n",
       "      <td>Hong Kong</td>\n",
       "      <td>84.0</td>\n",
       "      <td>3</td>\n",
       "      <td>Copenhagen</td>\n",
       "      <td>89.0</td>\n",
       "      <td>3</td>\n",
       "      <td>Frankfurt</td>\n",
       "      <td>80.3</td>\n",
       "      <td>3</td>\n",
       "      <td>Washington DC</td>\n",
       "      <td>87.6</td>\n",
       "    </tr>\n",
       "  </tbody>\n",
       "</table>\n",
       "</div>"
      ],
      "text/plain": [
       "   0           1     2   3           4     5   6          7     8   9   \\\n",
       "0   1  Copenhagen  82.4   1      Sydney  83.2   1      Tokyo  87.7   1   \n",
       "1   2     Toronto  82.2   2   Singapore  82.8   2  Singapore  84.1   2   \n",
       "2   3   Singapore  80.7   3  Copenhagen  82.2   3  Hong Kong  84.0   3   \n",
       "\n",
       "           10    11  12          13    14  15             16    17  \n",
       "0   Hong Kong  93.4   1  Copenhagen  86.4   1     Wellington  91.7  \n",
       "1   Singapore  92.1   2   Amsterdam  80.5   2        Toronto  90.3  \n",
       "2  Copenhagen  89.0   3   Frankfurt  80.3   3  Washington DC  87.6  "
      ]
     },
     "execution_count": 5,
     "metadata": {},
     "output_type": "execute_result"
    }
   ],
   "source": [
    "#выводим таблицу\n",
    "security_cities_rating.head(3)"
   ]
  },
  {
   "cell_type": "code",
   "execution_count": null,
   "metadata": {
    "id": "2ecWvAQvSx1b"
   },
   "outputs": [],
   "source": [
    "#удаляем ненужные колонки\n",
    "security_cities_rating = security_cities_rating.drop([3, 6 , 9, 12, 15], axis=1)"
   ]
  },
  {
   "cell_type": "code",
   "execution_count": null,
   "metadata": {
    "id": "u5Qy6sYDLwRp"
   },
   "outputs": [],
   "source": [
    "#сделаем так, чтобы не было одинаковых индексов у стран в рейтинге\n",
    "security_cities_rating[0] = np.array(security_cities_rating.index) + 1"
   ]
  },
  {
   "cell_type": "code",
   "execution_count": 6,
   "metadata": {
    "id": "gbiiVc7RYpYd"
   },
   "outputs": [],
   "source": [
    "# новые названия для колонок\n",
    "security_cities_rating = security_cities_rating.rename(columns={1: 'overall_rating', 2: 'overall_score', \n",
    "                                                                4: 'digital_sec', 5: 'score1',\n",
    "                                                                7: 'health_sec', 8: 'score2',\n",
    "                                                                10: 'infrastucture_sec', 11: 'score3',\n",
    "                                                                13: 'personal_sec', 14: 'score4',\n",
    "                                                                16: 'environmental_sec', 17: 'score5'})"
   ]
  },
  {
   "cell_type": "code",
   "execution_count": 14,
   "metadata": {
    "id": "jhigLM9H6W3H"
   },
   "outputs": [
    {
     "data": {
      "application/vnd.jupyter.widget-view+json": {
       "model_id": "f189406f3d1e4cf3919427a20f3e5d30",
       "version_major": 2,
       "version_minor": 0
      },
      "text/plain": [
       "  0%|          | 0/60 [00:00<?, ?it/s]"
      ]
     },
     "metadata": {},
     "output_type": "display_data"
    }
   ],
   "source": [
    "#для городов из overall_rating найдем их страны\n",
    "overall_rating_country = []\n",
    "geolocator = Nominatim(user_agent=\"your_project\", timeout=3)\n",
    "\n",
    "for city in tqdm(list(security_cities_rating['overall_rating'])):\n",
    "    geo_points = [geolocator.geocode(city).raw['lat'], geolocator.geocode(city).raw['lon']]\n",
    "    overall_rating_country.append(geolocator.reverse(geo_points, language=\"en\").raw['address']['country'])"
   ]
  },
  {
   "cell_type": "code",
   "execution_count": 12,
   "metadata": {
    "id": "7Ph8s1CM_Eg7"
   },
   "outputs": [
    {
     "ename": "ValueError",
     "evalue": "Length of values (4) does not match length of index (60)",
     "output_type": "error",
     "traceback": [
      "\u001b[0;31m---------------------------------------------------------------------------\u001b[0m",
      "\u001b[0;31mValueError\u001b[0m                                Traceback (most recent call last)",
      "\u001b[0;32m/var/folders/77/nv81jt4s1nl8mt41brjjtv3h0000gn/T/com.apple.shortcuts.mac-helper/ipykernel_1358/3111948568.py\u001b[0m in \u001b[0;36m<module>\u001b[0;34m\u001b[0m\n\u001b[1;32m      1\u001b[0m \u001b[0;31m#стандартизируем названия стран\u001b[0m\u001b[0;34m\u001b[0m\u001b[0;34m\u001b[0m\u001b[0m\n\u001b[1;32m      2\u001b[0m \u001b[0mcoco\u001b[0m\u001b[0;34m.\u001b[0m\u001b[0mlogging\u001b[0m\u001b[0;34m.\u001b[0m\u001b[0mgetLogger\u001b[0m\u001b[0;34m(\u001b[0m\u001b[0;34m)\u001b[0m\u001b[0;34m.\u001b[0m\u001b[0msetLevel\u001b[0m\u001b[0;34m(\u001b[0m\u001b[0mcoco\u001b[0m\u001b[0;34m.\u001b[0m\u001b[0mlogging\u001b[0m\u001b[0;34m.\u001b[0m\u001b[0mCRITICAL\u001b[0m\u001b[0;34m)\u001b[0m\u001b[0;34m\u001b[0m\u001b[0;34m\u001b[0m\u001b[0m\n\u001b[0;32m----> 3\u001b[0;31m \u001b[0msecurity_cities_rating\u001b[0m\u001b[0;34m[\u001b[0m\u001b[0;34m'overall_rating_country'\u001b[0m\u001b[0;34m]\u001b[0m \u001b[0;34m=\u001b[0m \u001b[0mcoco\u001b[0m\u001b[0;34m.\u001b[0m\u001b[0mconvert\u001b[0m\u001b[0;34m(\u001b[0m\u001b[0mnames\u001b[0m\u001b[0;34m=\u001b[0m\u001b[0moverall_rating_country\u001b[0m\u001b[0;34m,\u001b[0m \u001b[0mto\u001b[0m\u001b[0;34m=\u001b[0m\u001b[0;34m'name_short'\u001b[0m\u001b[0;34m)\u001b[0m\u001b[0;34m\u001b[0m\u001b[0;34m\u001b[0m\u001b[0m\n\u001b[0m",
      "\u001b[0;32m~/opt/anaconda3/lib/python3.9/site-packages/pandas/core/frame.py\u001b[0m in \u001b[0;36m__setitem__\u001b[0;34m(self, key, value)\u001b[0m\n\u001b[1;32m   3653\u001b[0m         \u001b[0;32melse\u001b[0m\u001b[0;34m:\u001b[0m\u001b[0;34m\u001b[0m\u001b[0;34m\u001b[0m\u001b[0m\n\u001b[1;32m   3654\u001b[0m             \u001b[0;31m# set column\u001b[0m\u001b[0;34m\u001b[0m\u001b[0;34m\u001b[0m\u001b[0m\n\u001b[0;32m-> 3655\u001b[0;31m             \u001b[0mself\u001b[0m\u001b[0;34m.\u001b[0m\u001b[0m_set_item\u001b[0m\u001b[0;34m(\u001b[0m\u001b[0mkey\u001b[0m\u001b[0;34m,\u001b[0m \u001b[0mvalue\u001b[0m\u001b[0;34m)\u001b[0m\u001b[0;34m\u001b[0m\u001b[0;34m\u001b[0m\u001b[0m\n\u001b[0m\u001b[1;32m   3656\u001b[0m \u001b[0;34m\u001b[0m\u001b[0m\n\u001b[1;32m   3657\u001b[0m     \u001b[0;32mdef\u001b[0m \u001b[0m_setitem_slice\u001b[0m\u001b[0;34m(\u001b[0m\u001b[0mself\u001b[0m\u001b[0;34m,\u001b[0m \u001b[0mkey\u001b[0m\u001b[0;34m:\u001b[0m \u001b[0mslice\u001b[0m\u001b[0;34m,\u001b[0m \u001b[0mvalue\u001b[0m\u001b[0;34m)\u001b[0m\u001b[0;34m:\u001b[0m\u001b[0;34m\u001b[0m\u001b[0;34m\u001b[0m\u001b[0m\n",
      "\u001b[0;32m~/opt/anaconda3/lib/python3.9/site-packages/pandas/core/frame.py\u001b[0m in \u001b[0;36m_set_item\u001b[0;34m(self, key, value)\u001b[0m\n\u001b[1;32m   3830\u001b[0m         \u001b[0mensure\u001b[0m \u001b[0mhomogeneity\u001b[0m\u001b[0;34m.\u001b[0m\u001b[0;34m\u001b[0m\u001b[0;34m\u001b[0m\u001b[0m\n\u001b[1;32m   3831\u001b[0m         \"\"\"\n\u001b[0;32m-> 3832\u001b[0;31m         \u001b[0mvalue\u001b[0m \u001b[0;34m=\u001b[0m \u001b[0mself\u001b[0m\u001b[0;34m.\u001b[0m\u001b[0m_sanitize_column\u001b[0m\u001b[0;34m(\u001b[0m\u001b[0mvalue\u001b[0m\u001b[0;34m)\u001b[0m\u001b[0;34m\u001b[0m\u001b[0;34m\u001b[0m\u001b[0m\n\u001b[0m\u001b[1;32m   3833\u001b[0m \u001b[0;34m\u001b[0m\u001b[0m\n\u001b[1;32m   3834\u001b[0m         if (\n",
      "\u001b[0;32m~/opt/anaconda3/lib/python3.9/site-packages/pandas/core/frame.py\u001b[0m in \u001b[0;36m_sanitize_column\u001b[0;34m(self, value)\u001b[0m\n\u001b[1;32m   4536\u001b[0m \u001b[0;34m\u001b[0m\u001b[0m\n\u001b[1;32m   4537\u001b[0m         \u001b[0;32mif\u001b[0m \u001b[0mis_list_like\u001b[0m\u001b[0;34m(\u001b[0m\u001b[0mvalue\u001b[0m\u001b[0;34m)\u001b[0m\u001b[0;34m:\u001b[0m\u001b[0;34m\u001b[0m\u001b[0;34m\u001b[0m\u001b[0m\n\u001b[0;32m-> 4538\u001b[0;31m             \u001b[0mcom\u001b[0m\u001b[0;34m.\u001b[0m\u001b[0mrequire_length_match\u001b[0m\u001b[0;34m(\u001b[0m\u001b[0mvalue\u001b[0m\u001b[0;34m,\u001b[0m \u001b[0mself\u001b[0m\u001b[0;34m.\u001b[0m\u001b[0mindex\u001b[0m\u001b[0;34m)\u001b[0m\u001b[0;34m\u001b[0m\u001b[0;34m\u001b[0m\u001b[0m\n\u001b[0m\u001b[1;32m   4539\u001b[0m         \u001b[0;32mreturn\u001b[0m \u001b[0msanitize_array\u001b[0m\u001b[0;34m(\u001b[0m\u001b[0mvalue\u001b[0m\u001b[0;34m,\u001b[0m \u001b[0mself\u001b[0m\u001b[0;34m.\u001b[0m\u001b[0mindex\u001b[0m\u001b[0;34m,\u001b[0m \u001b[0mcopy\u001b[0m\u001b[0;34m=\u001b[0m\u001b[0;32mTrue\u001b[0m\u001b[0;34m,\u001b[0m \u001b[0mallow_2d\u001b[0m\u001b[0;34m=\u001b[0m\u001b[0;32mTrue\u001b[0m\u001b[0;34m)\u001b[0m\u001b[0;34m\u001b[0m\u001b[0;34m\u001b[0m\u001b[0m\n\u001b[1;32m   4540\u001b[0m \u001b[0;34m\u001b[0m\u001b[0m\n",
      "\u001b[0;32m~/opt/anaconda3/lib/python3.9/site-packages/pandas/core/common.py\u001b[0m in \u001b[0;36mrequire_length_match\u001b[0;34m(data, index)\u001b[0m\n\u001b[1;32m    555\u001b[0m     \"\"\"\n\u001b[1;32m    556\u001b[0m     \u001b[0;32mif\u001b[0m \u001b[0mlen\u001b[0m\u001b[0;34m(\u001b[0m\u001b[0mdata\u001b[0m\u001b[0;34m)\u001b[0m \u001b[0;34m!=\u001b[0m \u001b[0mlen\u001b[0m\u001b[0;34m(\u001b[0m\u001b[0mindex\u001b[0m\u001b[0;34m)\u001b[0m\u001b[0;34m:\u001b[0m\u001b[0;34m\u001b[0m\u001b[0;34m\u001b[0m\u001b[0m\n\u001b[0;32m--> 557\u001b[0;31m         raise ValueError(\n\u001b[0m\u001b[1;32m    558\u001b[0m             \u001b[0;34m\"Length of values \"\u001b[0m\u001b[0;34m\u001b[0m\u001b[0;34m\u001b[0m\u001b[0m\n\u001b[1;32m    559\u001b[0m             \u001b[0;34mf\"({len(data)}) \"\u001b[0m\u001b[0;34m\u001b[0m\u001b[0;34m\u001b[0m\u001b[0m\n",
      "\u001b[0;31mValueError\u001b[0m: Length of values (4) does not match length of index (60)"
     ]
    }
   ],
   "source": [
    "#стандартизируем названия стран\n",
    "coco.logging.getLogger().setLevel(coco.logging.CRITICAL)                                                      \n",
    "security_cities_rating['overall_rating_country'] = coco.convert(names=overall_rating_country, to='name_short')"
   ]
  },
  {
   "cell_type": "code",
   "execution_count": null,
   "metadata": {
    "id": "vdy_GIjZ_e67"
   },
   "outputs": [],
   "source": [
    "#переставляем колонки местами\n",
    "security_cities_rating = security_cities_rating.reindex(columns=[0, 'overall_rating', 'overall_rating_country', 'overall_score', 'digital_sec', 'score1', 'health_sec', \n",
    "                                        'score2', 'infrastucture_sec', 'score3', 'personal_sec', 'score4', 'environmental_sec', 'score5'])"
   ]
  },
  {
   "cell_type": "markdown",
   "metadata": {
    "id": "ibiAHkvVINub"
   },
   "source": [
    "### Стандартизация стран\n"
   ]
  },
  {
   "cell_type": "code",
   "execution_count": null,
   "metadata": {
    "id": "8Ke2j9l4zzKK"
   },
   "outputs": [],
   "source": [
    "#приведем в одинаковый вид все страны в таблицах\n",
    "#используем logging чтобы не получать большое кол-во предупреждений\n",
    "coco.logging.getLogger().setLevel(coco.logging.CRITICAL)                                                            \n",
    "human_dev_rating['country'] = coco.convert(names=list(human_dev_rating.country), to='name_short')\n",
    "quality_of_life_rating['country'] = coco.convert(names=list(quality_of_life_rating.country), to='name_short')\n",
    "democracy_rating['country'] = coco.convert(names=list(democracy_rating.country), to='name_short')"
   ]
  },
  {
   "cell_type": "code",
   "execution_count": null,
   "metadata": {
    "id": "rQIIv8hy1Vv5"
   },
   "outputs": [],
   "source": [
    "#сделаем замену там, где библиотека не смогла выдать ответ\n",
    "quality_of_life_rating.at[list(quality_of_life_rating['country']).index('not found'), 'country'] = 'Qatar'\n",
    "quality_of_life_rating.at[list(quality_of_life_rating['country']).index('not found'), 'country'] = 'Egypt'\n",
    "quality_of_life_rating.at[list(quality_of_life_rating['country']).index(['France', 'Guadeloupe']), 'country'] = 'France'"
   ]
  },
  {
   "cell_type": "markdown",
   "metadata": {
    "id": "5rlR7azwfCWa"
   },
   "source": [
    "### Последние штрихи"
   ]
  },
  {
   "cell_type": "code",
   "execution_count": null,
   "metadata": {
    "colab": {
     "base_uri": "https://localhost:8080/"
    },
    "executionInfo": {
     "elapsed": 553,
     "status": "ok",
     "timestamp": 1668611995561,
     "user": {
      "displayName": "Никита",
      "userId": "06216477640278450368"
     },
     "user_tz": -300
    },
    "id": "nAZRkRdNfMh7",
    "outputId": "8c011090-d0bf-4c5c-e616-20a065c570f6"
   },
   "outputs": [
    {
     "name": "stdout",
     "output_type": "stream",
     "text": [
      "   0 overall_rating overall_rating_country  overall_score digital_sec  score1  \\\n",
      "0  1     Copenhagen                Denmark           82.4      Sydney    83.2   \n",
      "1  2        Toronto                 Canada           82.2   Singapore    82.8   \n",
      "2  3      Singapore              Singapore           80.7  Copenhagen    82.2   \n",
      "\n",
      "  health_sec  score2 infrastucture_sec  score3 personal_sec  score4  \\\n",
      "0      Tokyo    87.7         Hong Kong    93.4   Copenhagen    86.4   \n",
      "1  Singapore    84.1         Singapore    92.1    Amsterdam    80.5   \n",
      "2  Hong Kong    84.0        Copenhagen    89.0    Frankfurt    80.3   \n",
      "\n",
      "  environmental_sec  score5  \n",
      "0        Wellington    91.7  \n",
      "1           Toronto    90.3  \n",
      "2     Washington DC    87.6  \n",
      "------------------------------\n",
      "   rank      country    hdi average_annual_growth\n",
      "0     1  Switzerland  0.962                 0.19%\n",
      "1     2       Norway  0.961                 0.19%\n",
      "2     3      Iceland  0.959                 0.56%\n",
      "------------------------------\n",
      "   rank       city   city_eng      country\n",
      "0     1     Vienna     Vienna      Austria\n",
      "1     2     Zürich     Zurich  Switzerland\n",
      "2     3  Vancouver  Vancouver       Canada\n",
      "------------------------------\n",
      "   rank      country     regime_type  overall_score  electorat_and_pluralism  \\\n",
      "0     1       Norway  Full democracy           9.75                     10.0   \n",
      "1     2  New Zealand  Full democracy           9.37                     10.0   \n",
      "2     3      Finland  Full democracy           9.27                     10.0   \n",
      "\n",
      "   government  poli­tical_partici­pation  poli­tical_cul­ture  \\\n",
      "0        9.64                      10.00                10.00   \n",
      "1        8.93                       9.44                 8.75   \n",
      "2        9.29                       8.89                 8.75   \n",
      "\n",
      "   civil_liber­ties  \n",
      "0              9.12  \n",
      "1              9.71  \n",
      "2              9.41  \n"
     ]
    }
   ],
   "source": [
    "print(security_cities_rating.head(3))\n",
    "print('------------------------------')\n",
    "print(human_dev_rating.head(3))\n",
    "print('------------------------------')\n",
    "print(quality_of_life_rating.head(3))\n",
    "print('------------------------------')\n",
    "print(democracy_rating.head(3))"
   ]
  },
  {
   "cell_type": "code",
   "execution_count": 13,
   "metadata": {
    "id": "Pus2HdS9nI7S"
   },
   "outputs": [],
   "source": [
    "#сохраняю таблицы в формате csv\n",
    "security_cities_rating.to_csv('tables/security_cities_rating.csv', index=False)\n",
    "human_dev_rating.to_csv('tables/human_dev_rating.csv', index=False)\n",
    "quality_of_life_rating.to_csv('tables/quality_of_life_rating.csv', index=False)\n",
    "democracy_rating.to_csv('tables/democracy_rating.csv', index=False)"
   ]
  },
  {
   "cell_type": "code",
   "execution_count": null,
   "metadata": {
    "id": "cARDkk0KD-Zc"
   },
   "outputs": [],
   "source": []
  }
 ],
 "metadata": {
  "colab": {
   "authorship_tag": "ABX9TyNcjWf7pKh8bM2tiGHdIMAA",
   "mount_file_id": "1nrZ-ue9Cv12EOrzGfsBejvo0k0x_B-bl",
   "provenance": []
  },
  "kernelspec": {
   "display_name": "Python 3 (ipykernel)",
   "language": "python",
   "name": "python3"
  },
  "language_info": {
   "codemirror_mode": {
    "name": "ipython",
    "version": 3
   },
   "file_extension": ".py",
   "mimetype": "text/x-python",
   "name": "python",
   "nbconvert_exporter": "python",
   "pygments_lexer": "ipython3",
   "version": "3.9.13"
  }
 },
 "nbformat": 4,
 "nbformat_minor": 1
}
